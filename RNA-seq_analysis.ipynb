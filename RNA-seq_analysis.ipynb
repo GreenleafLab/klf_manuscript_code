{
 "cells": [
  {
   "cell_type": "code",
   "execution_count": 2,
   "metadata": {},
   "outputs": [],
   "source": [
    "import numpy as np\n",
    "import matplotlib.pyplot as plt\n",
    "import pandas as pd\n",
    "import seaborn as sns"
   ]
  },
  {
   "cell_type": "code",
   "execution_count": 3,
   "metadata": {},
   "outputs": [],
   "source": [
    "t2g = pd.read_csv('t2gmap.csv', header=0)\n",
    "encode = pd.read_csv('ENCFF068NRZ.tsv', sep='\\t', header=0)"
   ]
  },
  {
   "cell_type": "code",
   "execution_count": 4,
   "metadata": {},
   "outputs": [],
   "source": [
    "for index, row in encode.iterrows():\n",
    "    target_id = encode.iloc[index]['gene_id']\n",
    "    encode.at[index, 'gene_id'] = target_id.split('.')[0]"
   ]
  },
  {
   "cell_type": "code",
   "execution_count": 5,
   "metadata": {},
   "outputs": [],
   "source": [
    "target_ids = []\n",
    "for i in range(18):\n",
    "    tf = 'KLF' + str(i+1)\n",
    "    if tf == 'KLF13':\n",
    "        target_ids.append(t2g[t2g['ext_gene']==tf]['ens_gene'].to_list()[2])\n",
    "    else:    \n",
    "        target_ids.append(t2g[t2g['ext_gene']==tf]['ens_gene'].to_list()[0])"
   ]
  },
  {
   "cell_type": "code",
   "execution_count": 6,
   "metadata": {},
   "outputs": [
    {
     "name": "stderr",
     "output_type": "stream",
     "text": [
      "<ipython-input-6-b06263ed169c>:3: SettingWithCopyWarning: \n",
      "A value is trying to be set on a copy of a slice from a DataFrame.\n",
      "Try using .loc[row_indexer,col_indexer] = value instead\n",
      "\n",
      "See the caveats in the documentation: https://pandas.pydata.org/pandas-docs/stable/user_guide/indexing.html#returning-a-view-versus-a-copy\n",
      "  subset['ext_gene']=subset['gene_id'].map(t2g_dict)\n"
     ]
    }
   ],
   "source": [
    "t2g_dict = dict(zip(t2g['ens_gene'], t2g['ext_gene']))\n",
    "subset = encode[encode['gene_id'].isin(target_ids)]\n",
    "subset['ext_gene']=subset['gene_id'].map(t2g_dict)\n",
    "subset = subset.sort_values(by='ext_gene')\n",
    "subset['klf-number']=[1,10,11,12,13,14,15,16,17,18,2,3,4,5,6,7,8,9]\n",
    "subset = subset.sort_values(by='klf-number')"
   ]
  },
  {
   "cell_type": "code",
   "execution_count": 7,
   "metadata": {},
   "outputs": [],
   "source": [
    "lower_bound = np.asarray(subset['TPM']-subset['TPM_ci_lower_bound'])\n",
    "lower_bound = lower_bound*(lower_bound>0)\n",
    "upper_bound = np.asarray(subset['TPM_ci_upper_bound']-subset['TPM'])\n",
    "upper_bound = upper_bound*(upper_bound>0)"
   ]
  },
  {
   "cell_type": "code",
   "execution_count": 8,
   "metadata": {},
   "outputs": [
    {
     "data": {
      "image/png": "[encoded data removed]",
      "text/plain": [
       "<Figure size 192x86.4 with 1 Axes>"
      ]
     },
     "metadata": {
      "needs_background": "light"
     },
     "output_type": "display_data"
    }
   ],
   "source": [
    "fig, ax = plt.subplots(figsize=(4/1.5,3/2.5))\n",
    "fontsize=6\n",
    "plt.bar(x=subset['klf-number'], height=subset['TPM'], color='#969696')\n",
    "plt.errorbar(x=subset['klf-number'], y=subset['TPM'], yerr=[lower_bound, upper_bound], fmt='none', c='black', capsize=2)\n",
    "plt.xticks([1,2,3,4,5,6,7,8,9,10,11,12,13,14,15,16,17,18])\n",
    "ax.set_xticklabels([1,2,3,4,5,6,7,8,9,10,11,12,13,14,15,16,17,18], fontsize = fontsize)\n",
    "plt.ylabel('TPM', fontsize=fontsize)\n",
    "plt.xlabel('KLF number', fontsize=fontsize)\n",
    "plt.tick_params(axis='both', labelsize=fontsize)\n",
    "ax.spines['top'].set_visible(False)\n",
    "ax.spines['right'].set_visible(False)\n",
    "plt.savefig('KLF_expression.pdf', dpi=300)"
   ]
  },
  {
   "cell_type": "code",
   "execution_count": 9,
   "metadata": {},
   "outputs": [],
   "source": [
    "target_ids = []\n",
    "for i in range(9):\n",
    "    tf = 'SP' + str(i+1)\n",
    "    target_ids.append(t2g[t2g['ext_gene']==tf]['ens_gene'].to_list()[0])"
   ]
  },
  {
   "cell_type": "code",
   "execution_count": 10,
   "metadata": {},
   "outputs": [
    {
     "name": "stderr",
     "output_type": "stream",
     "text": [
      "<ipython-input-10-b44ec6e27bb2>:3: SettingWithCopyWarning: \n",
      "A value is trying to be set on a copy of a slice from a DataFrame.\n",
      "Try using .loc[row_indexer,col_indexer] = value instead\n",
      "\n",
      "See the caveats in the documentation: https://pandas.pydata.org/pandas-docs/stable/user_guide/indexing.html#returning-a-view-versus-a-copy\n",
      "  subset['ext_gene']=subset['gene_id'].map(t2g_dict)\n"
     ]
    }
   ],
   "source": [
    "subset = encode[encode['gene_id'].isin(target_ids)]\n",
    "t2g_dict = dict(zip(t2g['ens_gene'], t2g['ext_gene']))\n",
    "subset['ext_gene']=subset['gene_id'].map(t2g_dict)\n",
    "subset = subset.sort_values(by='ext_gene')\n",
    "subset['sp-number']=[1,2,3,4,5,6,7,8,9]\n",
    "subset = subset.sort_values(by='sp-number')"
   ]
  },
  {
   "cell_type": "code",
   "execution_count": 11,
   "metadata": {},
   "outputs": [
    {
     "data": {
      "image/png": "[encoded data removed]",
      "text/plain": [
       "<Figure size 115.2x86.4 with 1 Axes>"
      ]
     },
     "metadata": {
      "needs_background": "light"
     },
     "output_type": "display_data"
    }
   ],
   "source": [
    "fig, ax = plt.subplots(figsize=(4/2.5,3/2.5))\n",
    "fontsize=6\n",
    "lower_bound = np.asarray(subset['TPM']-subset['TPM_ci_lower_bound'])\n",
    "lower_bound = lower_bound*(lower_bound>0)\n",
    "upper_bound = np.asarray(subset['TPM_ci_upper_bound']-subset['TPM'])\n",
    "upper_bound = upper_bound*(upper_bound>0)\n",
    "plt.bar(x=subset['sp-number'], height=subset['TPM'], color='#969696')\n",
    "plt.errorbar(x=subset['sp-number'], y=subset['TPM'], yerr=[lower_bound, upper_bound], fmt='none', c='black', capsize=2)\n",
    "plt.xticks([1,2,3,4,5,6,7,8,9])\n",
    "plt.ylabel('TPM', fontsize=fontsize)\n",
    "plt.xlabel('SP number', fontsize=fontsize)\n",
    "plt.tick_params(axis='both', labelsize=fontsize)\n",
    "ax.set_box_aspect(0.8)\n",
    "ax.spines['top'].set_visible(False)\n",
    "ax.spines['right'].set_visible(False)\n",
    "plt.savefig('SP_expression.pdf', dpi=300)"
   ]
  },
  {
   "cell_type": "code",
   "execution_count": null,
   "metadata": {},
   "outputs": [],
   "source": []
  }
 ],
 "metadata": {
  "kernelspec": {
   "display_name": "Python 3",
   "language": "python",
   "name": "python3"
  },
  "language_info": {
   "codemirror_mode": {
    "name": "ipython",
    "version": 3
   },
   "file_extension": ".py",
   "mimetype": "text/x-python",
   "name": "python",
   "nbconvert_exporter": "python",
   "pygments_lexer": "ipython3",
   "version": "3.9.7"
  }
 },
 "nbformat": 4,
 "nbformat_minor": 4
}
